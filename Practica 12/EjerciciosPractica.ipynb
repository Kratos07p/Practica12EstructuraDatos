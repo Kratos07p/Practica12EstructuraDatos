{
 "cells": [
  {
   "cell_type": "code",
   "execution_count": null,
   "metadata": {},
   "outputs": [],
   "source": [
    "'''Escribe una función recursiva llamada suma_lista que tome una lista de números como\n",
    "argumento y devuelva la suma de todos los elementos en la lista.'''\n",
    "\n",
    "class ListaVaciaError(Exception):\n",
    "    pass\n",
    "\n",
    "def suma_lista(lista):\n",
    "    if not lista:\n",
    "        raise ListaVaciaError(\"La lista está vacía\")\n",
    "    \n",
    "    if len(lista) == 1:\n",
    "        return lista[0]\n",
    "    else:\n",
    "        return lista[0] + suma_lista(lista[1:])\n",
    "\n",
    "try:\n",
    "    lista_numeros = [1, 2, 3, 4, 5]\n",
    "    resultado = suma_lista(lista_numeros)\n",
    "    print(f\"La suma de la lista {lista_numeros} es: {resultado}\")\n",
    "except ListaVaciaError as e:\n",
    "    print(e)\n"
   ]
  },
  {
   "cell_type": "code",
   "execution_count": null,
   "metadata": {},
   "outputs": [],
   "source": [
    "'''Crea una función llamada invertir_cadena que utilice la recursividad para revertir una\n",
    "cadena dada. La función debería tomar una cadena como argumento y devolver una nueva\n",
    "cadena que sea la versión invertida de la original.'''\n",
    "\n",
    "class CadenaVaciaError(Exception):\n",
    "    pass\n",
    "\n",
    "def invertir_cadena(cadena):\n",
    "    if not cadena:\n",
    "        raise CadenaVaciaError(\"La cadena está vacía\")\n",
    "    \n",
    "    if len(cadena) == 1:\n",
    "        return cadena\n",
    "    else:\n",
    "        return cadena[-1] + invertir_cadena(cadena[:-1])\n",
    "\n",
    "try:\n",
    "    cadena_original = input(\"Ingrese una cadena: \")\n",
    "    cadena_invertida = invertir_cadena(cadena_original)\n",
    "    print(f\"La cadena original: {cadena_original}\")\n",
    "    print(f\"La cadena invertida: {cadena_invertida}\")\n",
    "except CadenaVaciaError as e:\n",
    "    print(e)\n"
   ]
  }
 ],
 "metadata": {
  "kernelspec": {
   "display_name": "Python 3",
   "language": "python",
   "name": "python3"
  },
  "language_info": {
   "codemirror_mode": {
    "name": "ipython",
    "version": 3
   },
   "file_extension": ".py",
   "mimetype": "text/x-python",
   "name": "python",
   "nbconvert_exporter": "python",
   "pygments_lexer": "ipython3",
   "version": "3.12.0"
  }
 },
 "nbformat": 4,
 "nbformat_minor": 2
}
